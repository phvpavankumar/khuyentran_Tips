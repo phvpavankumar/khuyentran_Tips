{
  "nbformat": 4,
  "nbformat_minor": 5,
  "metadata": {
    "celltoolbar": "Tags",
    "kernelspec": {
      "display_name": "Python 3 (ipykernel)",
      "language": "python",
      "name": "python3"
    },
    "language_info": {
      "codemirror_mode": {
        "name": "ipython",
        "version": 3
      },
      "file_extension": ".py",
      "mimetype": "text/x-python",
      "name": "python",
      "nbconvert_exporter": "python",
      "pygments_lexer": "ipython3",
      "version": "3.8.10"
    },
    "toc": {
      "base_numbering": 1,
      "nav_menu": {},
      "number_sections": true,
      "sideBar": true,
      "skip_h1_title": false,
      "title_cell": "Table of Contents",
      "title_sidebar": "Contents",
      "toc_cell": false,
      "toc_position": {},
      "toc_section_display": true,
      "toc_window_display": false
    },
    "colab": {
      "name": "string.ipynb",
      "provenance": []
    }
  },
  "cells": [
    {
      "cell_type": "markdown",
      "metadata": {
        "id": "4ce57a62"
      },
      "source": [
        "## String"
      ],
      "id": "4ce57a62"
    },
    {
      "cell_type": "markdown",
      "metadata": {
        "id": "e0d23e6b"
      },
      "source": [
        "### String find: Find The Index of a Substring in a Python String"
      ],
      "id": "e0d23e6b"
    },
    {
      "cell_type": "markdown",
      "metadata": {
        "id": "c79d4896"
      },
      "source": [
        "If you want to find the index of a substring in a string, use `find()` method. This method will return the index of the first occurrence of the substring if found and return `-1` otherwise."
      ],
      "id": "c79d4896"
    },
    {
      "cell_type": "code",
      "metadata": {
        "ExecuteTime": {
          "end_time": "2021-08-29T17:27:48.012042Z",
          "start_time": "2021-08-29T17:27:48.005899Z"
        },
        "colab": {
          "base_uri": "https://localhost:8080/"
        },
        "id": "27cde259",
        "outputId": "81722660-79fd-4b39-d351-18bb8a0a6654"
      },
      "source": [
        "sentence = \"Today is Saturaday\"\n",
        "\n",
        "# Find the index of first occurrence of the substring\n",
        "sentence.find(\"day\")"
      ],
      "id": "27cde259",
      "execution_count": 2,
      "outputs": [
        {
          "output_type": "execute_result",
          "data": {
            "text/plain": [
              "2"
            ]
          },
          "metadata": {},
          "execution_count": 2
        }
      ]
    },
    {
      "cell_type": "code",
      "metadata": {
        "ExecuteTime": {
          "end_time": "2021-08-29T17:27:48.479178Z",
          "start_time": "2021-08-29T17:27:48.464515Z"
        },
        "colab": {
          "base_uri": "https://localhost:8080/"
        },
        "id": "ecc0ce8a",
        "outputId": "f4cb0400-6e5e-4564-e39a-e056baaeaf34"
      },
      "source": [
        "sentence.find(\"nice\")\n",
        "# No substring is found"
      ],
      "id": "ecc0ce8a",
      "execution_count": 3,
      "outputs": [
        {
          "output_type": "execute_result",
          "data": {
            "text/plain": [
              "-1"
            ]
          },
          "metadata": {},
          "execution_count": 3
        }
      ]
    },
    {
      "cell_type": "markdown",
      "metadata": {
        "id": "d1ceb331"
      },
      "source": [
        "You can also provide the starting and stopping position of the search:"
      ],
      "id": "d1ceb331"
    },
    {
      "cell_type": "code",
      "metadata": {
        "ExecuteTime": {
          "end_time": "2021-08-29T17:27:48.255682Z",
          "start_time": "2021-08-29T17:27:48.240474Z"
        },
        "id": "2b216ebb",
        "outputId": "ccdd0573-e25f-4253-ed4b-6c7547f4bd11"
      },
      "source": [
        "# Start searching for the substring at index 3\n",
        "sentence.find(\"day\", 3)"
      ],
      "id": "2b216ebb",
      "execution_count": null,
      "outputs": [
        {
          "data": {
            "text/plain": [
              "15"
            ]
          },
          "execution_count": 18,
          "metadata": {},
          "output_type": "execute_result"
        },
        {
          "data": {
            "application/javascript": [
              "\n",
              "            setTimeout(function() {\n",
              "                var nbb_cell_id = 18;\n",
              "                var nbb_unformatted_code = \"# Start searching for the substring at index 3\\nsentence.find(\\\"day\\\", 3)\";\n",
              "                var nbb_formatted_code = \"# Start searching for the substring at index 3\\nsentence.find(\\\"day\\\", 3)\";\n",
              "                var nbb_cells = Jupyter.notebook.get_cells();\n",
              "                for (var i = 0; i < nbb_cells.length; ++i) {\n",
              "                    if (nbb_cells[i].input_prompt_number == nbb_cell_id) {\n",
              "                        if (nbb_cells[i].get_text() == nbb_unformatted_code) {\n",
              "                             nbb_cells[i].set_text(nbb_formatted_code);\n",
              "                        }\n",
              "                        break;\n",
              "                    }\n",
              "                }\n",
              "            }, 500);\n",
              "            "
            ],
            "text/plain": [
              "<IPython.core.display.Javascript object>"
            ]
          },
          "metadata": {},
          "output_type": "display_data"
        }
      ]
    },
    {
      "cell_type": "markdown",
      "metadata": {
        "id": "0ac7c28e"
      },
      "source": [
        "### re.sub: Replace One String with Another String Using Regular Expression\t"
      ],
      "id": "0ac7c28e"
    },
    {
      "cell_type": "markdown",
      "metadata": {
        "id": "0f12d832"
      },
      "source": [
        "If you want to either replace one string with another string or to change the order of characters in a string, use `re.sub`.\n",
        "\n",
        "`re.sub` allows you to use a regular expression to specify the pattern of the string you want to swap.\n",
        "\n",
        "In the code below, I replace `3/7/2021` with `Sunday` and replace `3/7/2021` with `2021/3/7`."
      ],
      "id": "0f12d832"
    },
    {
      "cell_type": "code",
      "metadata": {
        "ExecuteTime": {
          "end_time": "2021-08-29T20:22:42.720336Z",
          "start_time": "2021-08-29T20:22:42.683315Z"
        },
        "id": "188f9beb",
        "outputId": "a97dc6c1-d23d-4aa3-d2c5-1e3494387616"
      },
      "source": [
        "import re\n",
        "\n",
        "text = \"Today is 3/7/2021\"\n",
        "match_pattern = r\"(\\d+)/(\\d+)/(\\d+)\"\n",
        "\n",
        "re.sub(match_pattern, \"Sunday\", text)"
      ],
      "id": "188f9beb",
      "execution_count": null,
      "outputs": [
        {
          "data": {
            "text/plain": [
              "'Today is Sunday'"
            ]
          },
          "execution_count": 1,
          "metadata": {},
          "output_type": "execute_result"
        }
      ]
    },
    {
      "cell_type": "code",
      "metadata": {
        "ExecuteTime": {
          "end_time": "2021-08-29T20:22:43.817977Z",
          "start_time": "2021-08-29T20:22:43.808490Z"
        },
        "scrolled": false,
        "id": "3f8735fc",
        "outputId": "7566681d-e308-4986-a131-02eb3ba45999"
      },
      "source": [
        "re.sub(match_pattern, r\"\\3-\\1-\\2\", text)"
      ],
      "id": "3f8735fc",
      "execution_count": null,
      "outputs": [
        {
          "data": {
            "text/plain": [
              "'Today is 2021-3-7'"
            ]
          },
          "execution_count": 2,
          "metadata": {},
          "output_type": "execute_result"
        }
      ]
    },
    {
      "cell_type": "markdown",
      "metadata": {
        "id": "848c6d68"
      },
      "source": [
        "### difflib.SequenceMatcher: Detect The “Almost Similar” Articles"
      ],
      "id": "848c6d68"
    },
    {
      "cell_type": "markdown",
      "metadata": {
        "id": "f164d9c8"
      },
      "source": [
        "When analyzing articles, different articles can be almost similar but not 100% identical, maybe because of the grammar, or because of the change in two or three words (such as cross-posting). How can we detect the “almost similar” articles and drop one of them? That is when `difflib.SequenceMatcher` comes in handy. "
      ],
      "id": "f164d9c8"
    },
    {
      "cell_type": "code",
      "metadata": {
        "ExecuteTime": {
          "end_time": "2021-09-12T01:15:08.678941Z",
          "start_time": "2021-09-12T01:15:08.670108Z"
        },
        "id": "815c7e1e",
        "outputId": "898682c1-7dd0-41d4-f0ee-244a03c1a732"
      },
      "source": [
        "from difflib import SequenceMatcher\n",
        "\n",
        "text1 = 'I am Khuyen'\n",
        "text2 = 'I am Khuen'\n",
        "print(SequenceMatcher(a=text1, b=text2).ratio())"
      ],
      "id": "815c7e1e",
      "execution_count": null,
      "outputs": [
        {
          "name": "stdout",
          "output_type": "stream",
          "text": [
            "0.9523809523809523\n"
          ]
        }
      ]
    },
    {
      "cell_type": "markdown",
      "metadata": {
        "id": "cd1d5ec1"
      },
      "source": [
        "### difflib.get_close_matches:  Get a List of he Best Matches for a Certain Word"
      ],
      "id": "cd1d5ec1"
    },
    {
      "cell_type": "markdown",
      "metadata": {
        "id": "0cdf76a5"
      },
      "source": [
        "If you want to get a list of the best matches for a certain word, use `difflib.get_close_matches`.  "
      ],
      "id": "0cdf76a5"
    },
    {
      "cell_type": "code",
      "metadata": {
        "ExecuteTime": {
          "end_time": "2021-09-14T13:38:12.459953Z",
          "start_time": "2021-09-14T13:38:12.451000Z"
        },
        "id": "2948e2dc",
        "outputId": "e910516f-cc3c-4797-876f-a12d2796b329"
      },
      "source": [
        "from difflib import get_close_matches\n",
        "\n",
        "tools = ['pencil', 'pen', 'erasor', 'ink']\n",
        "get_close_matches('pencel', tools)"
      ],
      "id": "2948e2dc",
      "execution_count": null,
      "outputs": [
        {
          "data": {
            "text/plain": [
              "['pencil', 'pen']"
            ]
          },
          "execution_count": 9,
          "metadata": {},
          "output_type": "execute_result"
        }
      ]
    },
    {
      "cell_type": "markdown",
      "metadata": {
        "id": "fb3f74a5"
      },
      "source": [
        "To get closer matches, increase the value of the argument `cutoff` (default 0.6). "
      ],
      "id": "fb3f74a5"
    },
    {
      "cell_type": "code",
      "metadata": {
        "ExecuteTime": {
          "end_time": "2021-09-14T13:38:12.811319Z",
          "start_time": "2021-09-14T13:38:12.802768Z"
        },
        "id": "4392d667",
        "outputId": "00646e48-e27e-4af5-ee42-0c998269ed81"
      },
      "source": [
        "get_close_matches('pencel', tools, cutoff=0.8)"
      ],
      "id": "4392d667",
      "execution_count": null,
      "outputs": [
        {
          "data": {
            "text/plain": [
              "['pencil']"
            ]
          },
          "execution_count": 10,
          "metadata": {},
          "output_type": "execute_result"
        }
      ]
    }
  ]
}