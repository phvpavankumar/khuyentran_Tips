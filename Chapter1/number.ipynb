{
  "nbformat": 4,
  "nbformat_minor": 5,
  "metadata": {
    "kernelspec": {
      "display_name": "Python 3 (ipykernel)",
      "language": "python",
      "name": "python3"
    },
    "language_info": {
      "codemirror_mode": {
        "name": "ipython",
        "version": 3
      },
      "file_extension": ".py",
      "mimetype": "text/x-python",
      "name": "python",
      "nbconvert_exporter": "python",
      "pygments_lexer": "ipython3",
      "version": "3.8.10"
    },
    "toc": {
      "base_numbering": 1,
      "nav_menu": {},
      "number_sections": true,
      "sideBar": true,
      "skip_h1_title": false,
      "title_cell": "Table of Contents",
      "title_sidebar": "Contents",
      "toc_cell": false,
      "toc_position": {},
      "toc_section_display": true,
      "toc_window_display": false
    },
    "colab": {
      "name": "number.ipynb",
      "provenance": []
    }
  },
  "cells": [
    {
      "cell_type": "markdown",
      "metadata": {
        "id": "70a1e6bf"
      },
      "source": [
        "## Number"
      ],
      "id": "70a1e6bf"
    },
    {
      "cell_type": "markdown",
      "metadata": {
        "id": "26ee32db"
      },
      "source": [
        "### Get Multiples of a Number Using Modulus"
      ],
      "id": "26ee32db"
    },
    {
      "cell_type": "markdown",
      "metadata": {
        "id": "0142f3b7"
      },
      "source": [
        "If you want to get multiples of a number, use the modulus operator `%`. The modulus operator is used to get the remainder of a division. For example, `4 % 3 = 1`, `5 % 3 = 2`.\n",
        "\n",
        "Thus, to get multiples of `n`, we select only numbers whose remainders are 0 when dividing them by `n`. "
      ],
      "id": "0142f3b7"
    },
    {
      "cell_type": "code",
      "metadata": {
        "ExecuteTime": {
          "end_time": "2021-08-29T20:42:58.658779Z",
          "start_time": "2021-08-29T20:42:58.652396Z"
        },
        "id": "fe6ef980"
      },
      "source": [
        "def get_multiples_of_n(nums: list, n: int):\n",
        "    \"\"\"Select only numbers whose remainders\n",
        "    are 0 when dividing them by n\"\"\"\n",
        "    return [num for num in nums if num % n == 0]\n",
        "\n",
        "\n",
        "nums = [1, 4, 9, 12, 15, 16]"
      ],
      "id": "fe6ef980",
      "execution_count": null,
      "outputs": []
    },
    {
      "cell_type": "code",
      "metadata": {
        "ExecuteTime": {
          "end_time": "2021-08-29T20:42:58.969756Z",
          "start_time": "2021-08-29T20:42:58.961722Z"
        },
        "id": "072b19a8",
        "outputId": "d2e248d4-37dd-4f87-b37e-b6b14005c592"
      },
      "source": [
        "get_multiples_of_n(nums, 2)  # multiples of 2"
      ],
      "id": "072b19a8",
      "execution_count": null,
      "outputs": [
        {
          "data": {
            "text/plain": [
              "[4, 12, 16]"
            ]
          },
          "execution_count": 11,
          "metadata": {},
          "output_type": "execute_result"
        }
      ]
    },
    {
      "cell_type": "code",
      "metadata": {
        "ExecuteTime": {
          "end_time": "2021-08-29T20:42:59.219461Z",
          "start_time": "2021-08-29T20:42:59.210866Z"
        },
        "id": "77fc1409",
        "outputId": "601b6399-784b-4c59-e67e-d3063ebaec9f"
      },
      "source": [
        "get_multiples_of_n(nums, 3)  # multiples of 3"
      ],
      "id": "77fc1409",
      "execution_count": null,
      "outputs": [
        {
          "data": {
            "text/plain": [
              "[9, 12, 15]"
            ]
          },
          "execution_count": 12,
          "metadata": {},
          "output_type": "execute_result"
        }
      ]
    },
    {
      "cell_type": "code",
      "metadata": {
        "ExecuteTime": {
          "end_time": "2021-08-29T20:42:59.625948Z",
          "start_time": "2021-08-29T20:42:59.618751Z"
        },
        "id": "34c89e07",
        "outputId": "fcc2de6d-f744-484a-bbf4-d737d4787fb3"
      },
      "source": [
        "get_multiples_of_n(nums, 4)  # multiples of 4"
      ],
      "id": "34c89e07",
      "execution_count": null,
      "outputs": [
        {
          "data": {
            "text/plain": [
              "[4, 12, 16]"
            ]
          },
          "execution_count": 13,
          "metadata": {},
          "output_type": "execute_result"
        }
      ]
    },
    {
      "cell_type": "markdown",
      "metadata": {
        "id": "7ea06b3b"
      },
      "source": [
        "### fractions: Get Numerical Results in Fractions instead of Decimals"
      ],
      "id": "7ea06b3b"
    },
    {
      "cell_type": "markdown",
      "metadata": {
        "id": "aee16694"
      },
      "source": [
        "Normally, when you divide a number by another number, you will get a decimal:"
      ],
      "id": "aee16694"
    },
    {
      "cell_type": "code",
      "metadata": {
        "ExecuteTime": {
          "end_time": "2021-08-29T20:41:59.349529Z",
          "start_time": "2021-08-29T20:41:59.340938Z"
        },
        "id": "10195dce",
        "outputId": "042d7864-6c5a-4134-ebc5-d7df5e3368b6"
      },
      "source": [
        "2 / 3 + 1"
      ],
      "id": "10195dce",
      "execution_count": null,
      "outputs": [
        {
          "data": {
            "text/plain": [
              "1.6666666666666665"
            ]
          },
          "execution_count": 5,
          "metadata": {},
          "output_type": "execute_result"
        }
      ]
    },
    {
      "cell_type": "markdown",
      "metadata": {
        "id": "c4129671"
      },
      "source": [
        "Sometimes, you might prefer to get the results in fractions instead of decimals. There is Python built-in function called `fractions` that allows you to do exactly that. The code above shows how it works:"
      ],
      "id": "c4129671"
    },
    {
      "cell_type": "code",
      "metadata": {
        "ExecuteTime": {
          "end_time": "2021-08-29T20:41:59.987875Z",
          "start_time": "2021-08-29T20:41:59.976526Z"
        },
        "id": "40c586ee",
        "outputId": "7457ee67-fda3-4fcb-927d-4b8122489948"
      },
      "source": [
        "from fractions import Fraction\n",
        "\n",
        "res = Fraction(2 / 3 + 1)\n",
        "print(res)"
      ],
      "id": "40c586ee",
      "execution_count": null,
      "outputs": [
        {
          "name": "stdout",
          "output_type": "stream",
          "text": [
            "3752999689475413/2251799813685248\n"
          ]
        }
      ]
    },
    {
      "cell_type": "markdown",
      "metadata": {
        "id": "c03cf1b9"
      },
      "source": [
        "Cool! We got a fraction instead of a decimal. To limit the number of decimals displayed, use `limit_denominator()`."
      ],
      "id": "c03cf1b9"
    },
    {
      "cell_type": "code",
      "metadata": {
        "ExecuteTime": {
          "end_time": "2021-08-29T20:42:05.476338Z",
          "start_time": "2021-08-29T20:42:05.469940Z"
        },
        "id": "0ceb88df",
        "outputId": "eba4e87b-4929-4828-b72c-5beca4df2ba6"
      },
      "source": [
        "res = res.limit_denominator()\n",
        "print(res)"
      ],
      "id": "0ceb88df",
      "execution_count": null,
      "outputs": [
        {
          "name": "stdout",
          "output_type": "stream",
          "text": [
            "5/3\n"
          ]
        }
      ]
    },
    {
      "cell_type": "markdown",
      "metadata": {
        "id": "be22b669"
      },
      "source": [
        "What happens if we divide the result we got from `Fraction` by another number?"
      ],
      "id": "be22b669"
    },
    {
      "cell_type": "code",
      "metadata": {
        "ExecuteTime": {
          "end_time": "2021-08-29T20:42:06.160032Z",
          "start_time": "2021-08-29T20:42:06.153930Z"
        },
        "id": "734dd019",
        "outputId": "fb3b18d1-f46c-4337-e36d-80a843153787"
      },
      "source": [
        "print(res / 3)"
      ],
      "id": "734dd019",
      "execution_count": null,
      "outputs": [
        {
          "name": "stdout",
          "output_type": "stream",
          "text": [
            "5/9\n"
          ]
        }
      ]
    },
    {
      "cell_type": "markdown",
      "metadata": {
        "id": "a261faac"
      },
      "source": [
        "Nice! We got back a fraction without using the `Fraction` object again. "
      ],
      "id": "a261faac"
    },
    {
      "cell_type": "markdown",
      "metadata": {
        "id": "5d45641a"
      },
      "source": [
        "### How to Use Underscores to Format Large Numbers in Python"
      ],
      "id": "5d45641a"
    },
    {
      "cell_type": "markdown",
      "metadata": {
        "id": "d4f518d3"
      },
      "source": [
        "When working with a large number in Python, it can be difficult to figure out how many digits that number has. Python 3.6 and above allows you to use underscores as visual separators to group digits.\n",
        "\n",
        "In the example below, I use underscores to group decimal numbers by thousands.\n",
        "\n"
      ],
      "id": "d4f518d3"
    },
    {
      "cell_type": "code",
      "metadata": {
        "ExecuteTime": {
          "end_time": "2021-08-29T20:43:52.457197Z",
          "start_time": "2021-08-29T20:43:52.448411Z"
        },
        "id": "c667626c",
        "outputId": "7e0fb175-aed3-4b2b-a5c4-e732b0880249"
      },
      "source": [
        "large_num = 1_000_000\n",
        "large_num"
      ],
      "id": "c667626c",
      "execution_count": null,
      "outputs": [
        {
          "data": {
            "text/plain": [
              "1000000"
            ]
          },
          "execution_count": 14,
          "metadata": {},
          "output_type": "execute_result"
        }
      ]
    },
    {
      "cell_type": "markdown",
      "metadata": {
        "id": "c742c6ee"
      },
      "source": [
        "### Confirm whether a variable is a number\n",
        "\n"
      ],
      "id": "c742c6ee"
    },
    {
      "cell_type": "markdown",
      "metadata": {
        "id": "e60a3153"
      },
      "source": [
        "If you want to confirm whether a variable is a number without caring whether it is a float or an integer, numbers. `Number` is what you can use to check."
      ],
      "id": "e60a3153"
    },
    {
      "cell_type": "code",
      "metadata": {
        "ExecuteTime": {
          "end_time": "2021-08-29T20:44:38.110717Z",
          "start_time": "2021-08-29T20:44:38.102505Z"
        },
        "id": "5ef1b481",
        "outputId": "3b56fe19-6e57-4f93-ed4d-b9be0f799fd6"
      },
      "source": [
        "from numbers import Number\n",
        "\n",
        "a = 2\n",
        "b = 0.4\n",
        "\n",
        "isinstance(a, Number)"
      ],
      "id": "5ef1b481",
      "execution_count": null,
      "outputs": [
        {
          "data": {
            "text/plain": [
              "True"
            ]
          },
          "execution_count": 15,
          "metadata": {},
          "output_type": "execute_result"
        }
      ]
    },
    {
      "cell_type": "code",
      "metadata": {
        "ExecuteTime": {
          "end_time": "2021-08-29T20:44:38.444794Z",
          "start_time": "2021-08-29T20:44:38.436619Z"
        },
        "id": "87d95b0c",
        "outputId": "3a432985-c581-4c5d-cfbb-b68d37fabea2"
      },
      "source": [
        "isinstance(b, Number)"
      ],
      "id": "87d95b0c",
      "execution_count": null,
      "outputs": [
        {
          "data": {
            "text/plain": [
              "True"
            ]
          },
          "execution_count": 16,
          "metadata": {},
          "output_type": "execute_result"
        }
      ]
    }
  ]
}